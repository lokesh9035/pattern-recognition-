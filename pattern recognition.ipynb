{
 "cells": [
  {
   "cell_type": "code",
   "execution_count": 6,
   "id": "16d3f10b",
   "metadata": {},
   "outputs": [
    {
     "data": {
      "text/plain": [
       "'2.3.0'"
      ]
     },
     "execution_count": 6,
     "metadata": {},
     "output_type": "execute_result"
    }
   ],
   "source": [
    "import tensorflow\n",
    "from tensorflow.keras.datasets import mnist\n",
    "from tensorflow.keras.utils import to_categorical\n",
    "from tensorflow.keras.layers import Conv2D\n",
    "from tensorflow.keras.models import Sequential\n",
    "from tensorflow.keras.layers import Flatten, Dense , Activation\n",
    "from matplotlib import pyplot as plt\n",
    "\n",
    "\n",
    "\n",
    "tensorflow.__version__"
   ]
  },
  {
   "cell_type": "code",
   "execution_count": 7,
   "id": "202b64bd",
   "metadata": {},
   "outputs": [
    {
     "name": "stdout",
     "output_type": "stream",
     "text": [
      "Epoch 1/5\n",
      "1313/1313 [==============================] - 48s 37ms/step - loss: 0.1368 - accuracy: 0.9573 - val_loss: 0.0757 - val_accuracy: 0.9782\n",
      "Epoch 2/5\n",
      "1313/1313 [==============================] - 48s 36ms/step - loss: 0.0407 - accuracy: 0.9875 - val_loss: 0.0611 - val_accuracy: 0.9826\n",
      "Epoch 3/5\n",
      "1313/1313 [==============================] - 48s 36ms/step - loss: 0.0249 - accuracy: 0.9917 - val_loss: 0.0531 - val_accuracy: 0.9844\n",
      "Epoch 4/5\n",
      "1313/1313 [==============================] - 48s 36ms/step - loss: 0.0147 - accuracy: 0.9949 - val_loss: 0.0666 - val_accuracy: 0.9837\n",
      "Epoch 5/5\n",
      "1313/1313 [==============================] - 48s 36ms/step - loss: 0.0118 - accuracy: 0.9957 - val_loss: 0.0666 - val_accuracy: 0.9843\n",
      "313/313 [==============================] - 2s 5ms/step - loss: 0.0525 - accuracy: 0.9843\n"
     ]
    },
    {
     "data": {
      "text/plain": [
       "[0.05253342166543007, 0.9843000173568726]"
      ]
     },
     "execution_count": 7,
     "metadata": {},
     "output_type": "execute_result"
    }
   ],
   "source": [
    "data = mnist.load_data()   #LOADING DATA\n",
    "(x_train,y_train),(x_test,y_test) = mnist.load_data() #SPLITTING DATA FOR MODELLING\n",
    "x_train = x_train.reshape(x_train.shape[0],28,28,1)\n",
    "x_test = x_test.reshape(x_test.shape[0],28,28,1)\n",
    "\n",
    "\n",
    "x_train= x_train.astype('float32')  \n",
    "x_test = x_test.astype('float32')\n",
    "\n",
    "x_train /= 255      #NORMALIZING THHE DATA\n",
    "x_test /= 255\n",
    "\n",
    "\n",
    "y_train = to_categorical(y_train,num_classes=10)\n",
    "y_test = to_categorical(y_test,num_classes=10)\n",
    "\n",
    "\n",
    "#USING SEQUENTIAL MODEL TO TRAINING DATA\n",
    "sequential_model = Sequential()\n",
    "\n",
    "sequential_model.add(Conv2D(filters=32, kernel_size=3, activation='relu', input_shape=(28, 28, 1)))\n",
    "sequential_model.add(Conv2D(filters=32,kernel_size=3,activation='relu'))\n",
    "\n",
    "sequential_model.add(Flatten())\n",
    "\n",
    "sequential_model.add(Dense(128,activation=\"relu\"))\n",
    "sequential_model.add(Dense(10,activation=\"softmax\"))\n",
    "\n",
    "#COMPILING THR MODEL\n",
    "sequential_model.compile(loss='categorical_crossentropy', metrics=['accuracy'], optimizer='adam')\n",
    "\n",
    "#FITTING THE DATA TO THE MODEL\n",
    "sequential_model.fit(x=x_train,y=y_train,batch_size=32, epochs=5, validation_split=0.3)\n",
    "\n",
    "sequential_model.evaluate(x_test, y_test)  #EVALUATING THE RESULTS\n",
    "\n",
    "#CHECKING THE MODEL\n",
    "plt.imshow(x_test[500].reshape(28, 28), cmap='gray')\n",
    "y_pred = sequential_model.predict(x_test[500].reshape(1, 28, 28, 1))\n",
    "print(\"Predicted label:\", y_pred.argmax())\n",
    "\n"
   ]
  }
 ],
 "metadata": {
  "kernelspec": {
   "display_name": "Python 3",
   "language": "python",
   "name": "python3"
  },
  "language_info": {
   "codemirror_mode": {
    "name": "ipython",
    "version": 3
   },
   "file_extension": ".py",
   "mimetype": "text/x-python",
   "name": "python",
   "nbconvert_exporter": "python",
   "pygments_lexer": "ipython3",
   "version": "3.8.8"
  }
 },
 "nbformat": 4,
 "nbformat_minor": 5
}
